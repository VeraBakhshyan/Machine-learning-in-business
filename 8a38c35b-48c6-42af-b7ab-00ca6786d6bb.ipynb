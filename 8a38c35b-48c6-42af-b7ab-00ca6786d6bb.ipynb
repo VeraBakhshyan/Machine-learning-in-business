{
 "cells": [
  {
   "cell_type": "markdown",
   "metadata": {},
   "source": [
    "# Выбор локации для скважины"
   ]
  },
  {
   "cell_type": "markdown",
   "metadata": {},
   "source": [
    "Допустим, вы работаете в добывающей компании «ГлавРосГосНефть». Нужно решить, где бурить новую скважину.\n",
    "\n",
    "Вам предоставлены пробы нефти в трёх регионах: в каждом 10 000 месторождений, где измерили качество нефти и объём её запасов. Постройте модель машинного обучения, которая поможет определить регион, где добыча принесёт наибольшую прибыль. Проанализируйте возможную прибыль и риски техникой *Bootstrap.*\n",
    "\n",
    "Шаги для выбора локации:\n",
    "\n",
    "- В избранном регионе ищут месторождения, для каждого определяют значения признаков;\n",
    "- Строят модель и оценивают объём запасов;\n",
    "- Выбирают месторождения с самым высокими оценками значений. Количество месторождений зависит от бюджета компании и стоимости разработки одной скважины;\n",
    "- Прибыль равна суммарной прибыли отобранных месторождений."
   ]
  },
  {
   "cell_type": "code",
   "execution_count": 1,
   "metadata": {},
   "outputs": [
    {
     "name": "stdout",
     "output_type": "stream",
     "text": [
      "Requirement already satisfied: matplotlib==3.5.0 in /opt/conda/lib/python3.9/site-packages (3.5.0)\n",
      "Requirement already satisfied: cycler>=0.10 in /opt/conda/lib/python3.9/site-packages (from matplotlib==3.5.0) (0.11.0)\n",
      "Requirement already satisfied: kiwisolver>=1.0.1 in /opt/conda/lib/python3.9/site-packages (from matplotlib==3.5.0) (1.4.4)\n",
      "Requirement already satisfied: packaging>=20.0 in /opt/conda/lib/python3.9/site-packages (from matplotlib==3.5.0) (21.3)\n",
      "Requirement already satisfied: setuptools-scm>=4 in /opt/conda/lib/python3.9/site-packages (from matplotlib==3.5.0) (8.1.0)\n",
      "Requirement already satisfied: pillow>=6.2.0 in /opt/conda/lib/python3.9/site-packages (from matplotlib==3.5.0) (8.4.0)\n",
      "Requirement already satisfied: fonttools>=4.22.0 in /opt/conda/lib/python3.9/site-packages (from matplotlib==3.5.0) (4.53.1)\n",
      "Requirement already satisfied: numpy>=1.17 in /opt/conda/lib/python3.9/site-packages (from matplotlib==3.5.0) (1.21.1)\n",
      "Requirement already satisfied: python-dateutil>=2.7 in /opt/conda/lib/python3.9/site-packages (from matplotlib==3.5.0) (2.8.1)\n",
      "Requirement already satisfied: pyparsing>=2.2.1 in /opt/conda/lib/python3.9/site-packages (from matplotlib==3.5.0) (2.4.7)\n",
      "Requirement already satisfied: six>=1.5 in /opt/conda/lib/python3.9/site-packages (from python-dateutil>=2.7->matplotlib==3.5.0) (1.16.0)\n",
      "Requirement already satisfied: typing-extensions in /opt/conda/lib/python3.9/site-packages (from setuptools-scm>=4->matplotlib==3.5.0) (4.3.0)\n",
      "Requirement already satisfied: setuptools in /opt/conda/lib/python3.9/site-packages (from setuptools-scm>=4->matplotlib==3.5.0) (49.6.0.post20210108)\n",
      "Requirement already satisfied: tomli>=1 in /opt/conda/lib/python3.9/site-packages (from setuptools-scm>=4->matplotlib==3.5.0) (2.0.1)\n"
     ]
    }
   ],
   "source": [
    "!pip install matplotlib==3.5.0"
   ]
  },
  {
   "cell_type": "code",
   "execution_count": 2,
   "metadata": {},
   "outputs": [
    {
     "name": "stdout",
     "output_type": "stream",
     "text": [
      "Name: matplotlib\r\n",
      "Version: 3.5.0\r\n",
      "Summary: Python plotting package\r\n",
      "Home-page: https://matplotlib.org\r\n",
      "Author: John D. Hunter, Michael Droettboom\r\n",
      "Author-email: matplotlib-users@python.org\r\n",
      "License: PSF\r\n",
      "Location: /opt/conda/lib/python3.9/site-packages\r\n",
      "Requires: cycler, kiwisolver, pyparsing, fonttools, setuptools-scm, packaging, python-dateutil, pillow, numpy\r\n",
      "Required-by: seaborn, pyod, catboost\r\n"
     ]
    }
   ],
   "source": [
    "!pip show matplotlib"
   ]
  },
  {
   "cell_type": "code",
   "execution_count": 3,
   "metadata": {},
   "outputs": [
    {
     "name": "stdout",
     "output_type": "stream",
     "text": [
      "Requirement already satisfied: scikit-learn in /opt/conda/lib/python3.9/site-packages (1.5.1)\n",
      "Requirement already satisfied: threadpoolctl>=3.1.0 in /opt/conda/lib/python3.9/site-packages (from scikit-learn) (3.1.0)\n",
      "Requirement already satisfied: scipy>=1.6.0 in /opt/conda/lib/python3.9/site-packages (from scikit-learn) (1.9.1)\n",
      "Requirement already satisfied: joblib>=1.2.0 in /opt/conda/lib/python3.9/site-packages (from scikit-learn) (1.4.2)\n",
      "Requirement already satisfied: numpy>=1.19.5 in /opt/conda/lib/python3.9/site-packages (from scikit-learn) (1.21.1)\n",
      "Note: you may need to restart the kernel to use updated packages.\n"
     ]
    }
   ],
   "source": [
    "pip install --upgrade scikit-learn"
   ]
  },
  {
   "cell_type": "code",
   "execution_count": 4,
   "metadata": {},
   "outputs": [],
   "source": [
    "import matplotlib.pyplot as plt\n",
    "import numpy as np\n",
    "import pandas as pd\n",
    "from sklearn.model_selection import train_test_split\n",
    "from sklearn.linear_model import LinearRegression\n",
    "from sklearn.metrics import mean_squared_error\n",
    "from sklearn.preprocessing import StandardScaler\n",
    "from sklearn.utils import shuffle\n",
    "import warnings\n",
    "warnings.filterwarnings('ignore')\n",
    "from sklearn.model_selection import train_test_split"
   ]
  },
  {
   "cell_type": "markdown",
   "metadata": {},
   "source": [
    "## Загрузка и подготовка данных"
   ]
  },
  {
   "cell_type": "markdown",
   "metadata": {},
   "source": [
    "Загрузите и подготовьте данные. Поясните порядок действий."
   ]
  },
  {
   "cell_type": "code",
   "execution_count": 5,
   "metadata": {},
   "outputs": [],
   "source": [
    "data_0 = pd.read_csv('/datasets/geo_data_0.csv')\n",
    "\n",
    "data_1 = pd.read_csv('/datasets/geo_data_1.csv')\n",
    "\n",
    "data_2 = pd.read_csv('/datasets/geo_data_2.csv')"
   ]
  },
  {
   "cell_type": "code",
   "execution_count": 6,
   "metadata": {},
   "outputs": [
    {
     "name": "stdout",
     "output_type": "stream",
     "text": [
      "<class 'pandas.core.frame.DataFrame'>\n",
      "RangeIndex: 100000 entries, 0 to 99999\n",
      "Data columns (total 5 columns):\n",
      " #   Column   Non-Null Count   Dtype  \n",
      "---  ------   --------------   -----  \n",
      " 0   id       100000 non-null  object \n",
      " 1   f0       100000 non-null  float64\n",
      " 2   f1       100000 non-null  float64\n",
      " 3   f2       100000 non-null  float64\n",
      " 4   product  100000 non-null  float64\n",
      "dtypes: float64(4), object(1)\n",
      "memory usage: 3.8+ MB\n"
     ]
    },
    {
     "data": {
      "text/html": [
       "<div>\n",
       "<style scoped>\n",
       "    .dataframe tbody tr th:only-of-type {\n",
       "        vertical-align: middle;\n",
       "    }\n",
       "\n",
       "    .dataframe tbody tr th {\n",
       "        vertical-align: top;\n",
       "    }\n",
       "\n",
       "    .dataframe thead th {\n",
       "        text-align: right;\n",
       "    }\n",
       "</style>\n",
       "<table border=\"1\" class=\"dataframe\">\n",
       "  <thead>\n",
       "    <tr style=\"text-align: right;\">\n",
       "      <th></th>\n",
       "      <th>id</th>\n",
       "      <th>f0</th>\n",
       "      <th>f1</th>\n",
       "      <th>f2</th>\n",
       "      <th>product</th>\n",
       "    </tr>\n",
       "  </thead>\n",
       "  <tbody>\n",
       "    <tr>\n",
       "      <th>0</th>\n",
       "      <td>txEyH</td>\n",
       "      <td>0.705745</td>\n",
       "      <td>-0.497823</td>\n",
       "      <td>1.221170</td>\n",
       "      <td>105.280062</td>\n",
       "    </tr>\n",
       "    <tr>\n",
       "      <th>1</th>\n",
       "      <td>2acmU</td>\n",
       "      <td>1.334711</td>\n",
       "      <td>-0.340164</td>\n",
       "      <td>4.365080</td>\n",
       "      <td>73.037750</td>\n",
       "    </tr>\n",
       "    <tr>\n",
       "      <th>2</th>\n",
       "      <td>409Wp</td>\n",
       "      <td>1.022732</td>\n",
       "      <td>0.151990</td>\n",
       "      <td>1.419926</td>\n",
       "      <td>85.265647</td>\n",
       "    </tr>\n",
       "    <tr>\n",
       "      <th>3</th>\n",
       "      <td>iJLyR</td>\n",
       "      <td>-0.032172</td>\n",
       "      <td>0.139033</td>\n",
       "      <td>2.978566</td>\n",
       "      <td>168.620776</td>\n",
       "    </tr>\n",
       "    <tr>\n",
       "      <th>4</th>\n",
       "      <td>Xdl7t</td>\n",
       "      <td>1.988431</td>\n",
       "      <td>0.155413</td>\n",
       "      <td>4.751769</td>\n",
       "      <td>154.036647</td>\n",
       "    </tr>\n",
       "  </tbody>\n",
       "</table>\n",
       "</div>"
      ],
      "text/plain": [
       "      id        f0        f1        f2     product\n",
       "0  txEyH  0.705745 -0.497823  1.221170  105.280062\n",
       "1  2acmU  1.334711 -0.340164  4.365080   73.037750\n",
       "2  409Wp  1.022732  0.151990  1.419926   85.265647\n",
       "3  iJLyR -0.032172  0.139033  2.978566  168.620776\n",
       "4  Xdl7t  1.988431  0.155413  4.751769  154.036647"
      ]
     },
     "execution_count": 6,
     "metadata": {},
     "output_type": "execute_result"
    }
   ],
   "source": [
    "data_0.info()\n",
    "data_0.head()"
   ]
  },
  {
   "cell_type": "code",
   "execution_count": 7,
   "metadata": {},
   "outputs": [
    {
     "name": "stdout",
     "output_type": "stream",
     "text": [
      "<class 'pandas.core.frame.DataFrame'>\n",
      "RangeIndex: 100000 entries, 0 to 99999\n",
      "Data columns (total 5 columns):\n",
      " #   Column   Non-Null Count   Dtype  \n",
      "---  ------   --------------   -----  \n",
      " 0   id       100000 non-null  object \n",
      " 1   f0       100000 non-null  float64\n",
      " 2   f1       100000 non-null  float64\n",
      " 3   f2       100000 non-null  float64\n",
      " 4   product  100000 non-null  float64\n",
      "dtypes: float64(4), object(1)\n",
      "memory usage: 3.8+ MB\n"
     ]
    },
    {
     "data": {
      "text/html": [
       "<div>\n",
       "<style scoped>\n",
       "    .dataframe tbody tr th:only-of-type {\n",
       "        vertical-align: middle;\n",
       "    }\n",
       "\n",
       "    .dataframe tbody tr th {\n",
       "        vertical-align: top;\n",
       "    }\n",
       "\n",
       "    .dataframe thead th {\n",
       "        text-align: right;\n",
       "    }\n",
       "</style>\n",
       "<table border=\"1\" class=\"dataframe\">\n",
       "  <thead>\n",
       "    <tr style=\"text-align: right;\">\n",
       "      <th></th>\n",
       "      <th>id</th>\n",
       "      <th>f0</th>\n",
       "      <th>f1</th>\n",
       "      <th>f2</th>\n",
       "      <th>product</th>\n",
       "    </tr>\n",
       "  </thead>\n",
       "  <tbody>\n",
       "    <tr>\n",
       "      <th>0</th>\n",
       "      <td>kBEdx</td>\n",
       "      <td>-15.001348</td>\n",
       "      <td>-8.276000</td>\n",
       "      <td>-0.005876</td>\n",
       "      <td>3.179103</td>\n",
       "    </tr>\n",
       "    <tr>\n",
       "      <th>1</th>\n",
       "      <td>62mP7</td>\n",
       "      <td>14.272088</td>\n",
       "      <td>-3.475083</td>\n",
       "      <td>0.999183</td>\n",
       "      <td>26.953261</td>\n",
       "    </tr>\n",
       "    <tr>\n",
       "      <th>2</th>\n",
       "      <td>vyE1P</td>\n",
       "      <td>6.263187</td>\n",
       "      <td>-5.948386</td>\n",
       "      <td>5.001160</td>\n",
       "      <td>134.766305</td>\n",
       "    </tr>\n",
       "    <tr>\n",
       "      <th>3</th>\n",
       "      <td>KcrkZ</td>\n",
       "      <td>-13.081196</td>\n",
       "      <td>-11.506057</td>\n",
       "      <td>4.999415</td>\n",
       "      <td>137.945408</td>\n",
       "    </tr>\n",
       "    <tr>\n",
       "      <th>4</th>\n",
       "      <td>AHL4O</td>\n",
       "      <td>12.702195</td>\n",
       "      <td>-8.147433</td>\n",
       "      <td>5.004363</td>\n",
       "      <td>134.766305</td>\n",
       "    </tr>\n",
       "  </tbody>\n",
       "</table>\n",
       "</div>"
      ],
      "text/plain": [
       "      id         f0         f1        f2     product\n",
       "0  kBEdx -15.001348  -8.276000 -0.005876    3.179103\n",
       "1  62mP7  14.272088  -3.475083  0.999183   26.953261\n",
       "2  vyE1P   6.263187  -5.948386  5.001160  134.766305\n",
       "3  KcrkZ -13.081196 -11.506057  4.999415  137.945408\n",
       "4  AHL4O  12.702195  -8.147433  5.004363  134.766305"
      ]
     },
     "execution_count": 7,
     "metadata": {},
     "output_type": "execute_result"
    }
   ],
   "source": [
    "data_1.info()\n",
    "data_1.head()"
   ]
  },
  {
   "cell_type": "code",
   "execution_count": 8,
   "metadata": {},
   "outputs": [
    {
     "name": "stdout",
     "output_type": "stream",
     "text": [
      "<class 'pandas.core.frame.DataFrame'>\n",
      "RangeIndex: 100000 entries, 0 to 99999\n",
      "Data columns (total 5 columns):\n",
      " #   Column   Non-Null Count   Dtype  \n",
      "---  ------   --------------   -----  \n",
      " 0   id       100000 non-null  object \n",
      " 1   f0       100000 non-null  float64\n",
      " 2   f1       100000 non-null  float64\n",
      " 3   f2       100000 non-null  float64\n",
      " 4   product  100000 non-null  float64\n",
      "dtypes: float64(4), object(1)\n",
      "memory usage: 3.8+ MB\n"
     ]
    },
    {
     "data": {
      "text/html": [
       "<div>\n",
       "<style scoped>\n",
       "    .dataframe tbody tr th:only-of-type {\n",
       "        vertical-align: middle;\n",
       "    }\n",
       "\n",
       "    .dataframe tbody tr th {\n",
       "        vertical-align: top;\n",
       "    }\n",
       "\n",
       "    .dataframe thead th {\n",
       "        text-align: right;\n",
       "    }\n",
       "</style>\n",
       "<table border=\"1\" class=\"dataframe\">\n",
       "  <thead>\n",
       "    <tr style=\"text-align: right;\">\n",
       "      <th></th>\n",
       "      <th>id</th>\n",
       "      <th>f0</th>\n",
       "      <th>f1</th>\n",
       "      <th>f2</th>\n",
       "      <th>product</th>\n",
       "    </tr>\n",
       "  </thead>\n",
       "  <tbody>\n",
       "    <tr>\n",
       "      <th>0</th>\n",
       "      <td>fwXo0</td>\n",
       "      <td>-1.146987</td>\n",
       "      <td>0.963328</td>\n",
       "      <td>-0.828965</td>\n",
       "      <td>27.758673</td>\n",
       "    </tr>\n",
       "    <tr>\n",
       "      <th>1</th>\n",
       "      <td>WJtFt</td>\n",
       "      <td>0.262778</td>\n",
       "      <td>0.269839</td>\n",
       "      <td>-2.530187</td>\n",
       "      <td>56.069697</td>\n",
       "    </tr>\n",
       "    <tr>\n",
       "      <th>2</th>\n",
       "      <td>ovLUW</td>\n",
       "      <td>0.194587</td>\n",
       "      <td>0.289035</td>\n",
       "      <td>-5.586433</td>\n",
       "      <td>62.871910</td>\n",
       "    </tr>\n",
       "    <tr>\n",
       "      <th>3</th>\n",
       "      <td>q6cA6</td>\n",
       "      <td>2.236060</td>\n",
       "      <td>-0.553760</td>\n",
       "      <td>0.930038</td>\n",
       "      <td>114.572842</td>\n",
       "    </tr>\n",
       "    <tr>\n",
       "      <th>4</th>\n",
       "      <td>WPMUX</td>\n",
       "      <td>-0.515993</td>\n",
       "      <td>1.716266</td>\n",
       "      <td>5.899011</td>\n",
       "      <td>149.600746</td>\n",
       "    </tr>\n",
       "  </tbody>\n",
       "</table>\n",
       "</div>"
      ],
      "text/plain": [
       "      id        f0        f1        f2     product\n",
       "0  fwXo0 -1.146987  0.963328 -0.828965   27.758673\n",
       "1  WJtFt  0.262778  0.269839 -2.530187   56.069697\n",
       "2  ovLUW  0.194587  0.289035 -5.586433   62.871910\n",
       "3  q6cA6  2.236060 -0.553760  0.930038  114.572842\n",
       "4  WPMUX -0.515993  1.716266  5.899011  149.600746"
      ]
     },
     "execution_count": 8,
     "metadata": {},
     "output_type": "execute_result"
    }
   ],
   "source": [
    "data_2.info()\n",
    "data_2.head()"
   ]
  },
  {
   "cell_type": "markdown",
   "metadata": {},
   "source": [
    "узнаю сколько нефти приходится на каждую скважину. для этого сначала узнаю уникальные значения, удалю столбцы id, создам функцию и построю по ней гистограмму для отображения объема скважин"
   ]
  },
  {
   "cell_type": "code",
   "execution_count": 9,
   "metadata": {},
   "outputs": [
    {
     "name": "stdout",
     "output_type": "stream",
     "text": [
      "Уникальные значения столбца id\n",
      "['txEyH' '2acmU' '409Wp' ... '3rnvd' '7kl59' '1CWhH']\n",
      "Уникальные значения столбца f0\n",
      "[0.70574498 1.33471129 1.02273226 ... 1.02958465 0.99816289 1.76475393]\n",
      "Уникальные значения столбца f1\n",
      "[-0.4978225  -0.34016425  0.15199044 ...  0.01878693 -0.52858167\n",
      " -0.26641676]\n",
      "Уникальные значения столбца f2\n",
      "[ 1.22116995  4.36508033  1.41992624 ... -1.34830814  1.58386866\n",
      "  5.72284937]\n",
      "Уникальные значения столбца product\n",
      "[105.28006184  73.03775027  85.26564713 ...  64.37544259  74.04076435\n",
      " 149.63324561]\n",
      "\n",
      "Уникальные значения столбца id\n",
      "['kBEdx' '62mP7' 'vyE1P' ... '09gWa' 'rqwUm' 'relB0']\n",
      "Уникальные значения столбца f0\n",
      "[-15.00134818  14.27208781   6.26318735 ...  -7.37889139   0.66571381\n",
      "  -3.42613898]\n",
      "Уникальные значения столбца f1\n",
      "[-8.27599995 -3.47508322 -5.94838579 ... -3.08410387 -6.15259286\n",
      " -7.7942742 ]\n",
      "Уникальные значения столбца f2\n",
      "[-5.87601369e-03  9.99182737e-01  5.00116016e+00 ...  4.99865060e+00\n",
      "  1.00014635e+00 -3.29851829e-03]\n",
      "Уникальные значения столбца product\n",
      "[  3.17910258  26.95326103 134.76630516 137.94540774  84.03888568\n",
      " 110.99214671  53.90652206   0.         107.81304413  57.08562465\n",
      "  30.13236361  80.85978309]\n",
      "\n",
      "Уникальные значения столбца id\n",
      "['fwXo0' 'WJtFt' 'ovLUW' ... 'tKPY3' 'nmxp2' 'V9kWn']\n",
      "Уникальные значения столбца f0\n",
      "[-1.1469871   0.2627779   0.19458728 ... -1.19993432 -2.41989641\n",
      " -2.55142066]\n",
      "Уникальные значения столбца f1\n",
      "[ 0.96332792  0.26983896  0.289035   ... -2.95763723  2.41722066\n",
      " -2.02562514]\n",
      "Уникальные значения столбца f2\n",
      "[-0.82896492 -2.53018652 -5.58643277 ...  5.219411   -5.54844392\n",
      "  6.09089066]\n",
      "Уникальные значения столбца product\n",
      "[ 27.75867323  56.06969663  62.87191005 ... 157.08007975  51.79525299\n",
      " 102.77576749]\n"
     ]
    }
   ],
   "source": [
    "def unique_columns(data_frame):\n",
    "    for column in data_frame.columns:\n",
    "        print('Уникальные значения столбца', column)\n",
    "        print(data_frame[column].unique())\n",
    "        \n",
    "unique_columns(data_0) \n",
    "print()\n",
    "unique_columns(data_1)\n",
    "print()\n",
    "unique_columns(data_2)"
   ]
  },
  {
   "cell_type": "code",
   "execution_count": 10,
   "metadata": {},
   "outputs": [],
   "source": [
    "#удаляю id, тк не имеет значимости\n",
    "data_0 = data_0.drop(['id'], axis=1)\n",
    "data_1 = data_1.drop(['id'], axis=1)\n",
    "data_2 = data_2.drop(['id'], axis=1)"
   ]
  },
  {
   "cell_type": "code",
   "execution_count": 11,
   "metadata": {},
   "outputs": [],
   "source": [
    "#функция для построения гистограммы\n",
    "def oil_hist(seria, bins, xlim_max, ylim_max):\n",
    "    plt.figure(figsize=[10,7])\n",
    "    plt.hist(seria, bins=bins)\n",
    "    plt.xlim([0,xlim_max])\n",
    "    plt.ylim([0,ylim_max])\n",
    "    plt.xlabel(\"Объем нефти на скважину, тыс. барелей\")\n",
    "    plt.ylabel(\"Количество скважин\")\n",
    "    plt.title(\"Гистограмма распределения по объему скважин\")\n",
    "    plt.show()"
   ]
  },
  {
   "cell_type": "code",
   "execution_count": 12,
   "metadata": {},
   "outputs": [
    {
     "data": {
      "image/png": "[encoded data removed]",
      "text/plain": [
       "<Figure size 720x504 with 1 Axes>"
      ]
     },
     "metadata": {
      "needs_background": "light"
     },
     "output_type": "display_data"
    },
    {
     "data": {
      "image/png": "[encoded data removed]",
      "text/plain": [
       "<Figure size 720x504 with 1 Axes>"
      ]
     },
     "metadata": {
      "needs_background": "light"
     },
     "output_type": "display_data"
    },
    {
     "data": {
      "image/png": "[encoded data removed]",
      "text/plain": [
       "<Figure size 720x504 with 1 Axes>"
      ]
     },
     "metadata": {
      "needs_background": "light"
     },
     "output_type": "display_data"
    },
    {
     "data": {
      "image/png": "[encoded data removed]",
      "text/plain": [
       "<Figure size 720x504 with 1 Axes>"
      ]
     },
     "metadata": {
      "needs_background": "light"
     },
     "output_type": "display_data"
    }
   ],
   "source": [
    "#строю гистрограмму\n",
    "oil_hist(data_0['product'], 200, 190, 1000)\n",
    "oil_hist(data_1['product'], 200, 190, 1000)\n",
    "oil_hist(data_1['product'], 50, 150, 10000)\n",
    "oil_hist(data_2['product'], 200, 190, 1000)"
   ]
  },
  {
   "cell_type": "markdown",
   "metadata": {},
   "source": [
    "Признаки для модели хранятся в стоблцах: f0, f1, f2.\n",
    "\n",
    "\n",
    "Целевой признак: product.\n",
    "\n",
    "Вывод по данному шагу:\n",
    "Данные подготовлены. Пропусков нет.\n",
    "\n",
    "По гистограммам можно понять, что у первого и третьего региона распределение скважин близкое к нормальному. Во втором регионе данные имеют странное распределение: от 0 до 5 баррелей с шагом по 15-20 равномерно распределены 100000 значений. Данные не подчиняются закону больших чисел и скорей всего были введены искуственно."
   ]
  },
  {
   "cell_type": "markdown",
   "metadata": {},
   "source": [
    "## Обучение и проверка модели"
   ]
  },
  {
   "cell_type": "markdown",
   "metadata": {},
   "source": [
    "Обучите и проверьте модель для каждого региона:\n",
    "\n",
    " 2.1. Разбейте данные на обучающую и валидационную выборки в соотношении 75:25.\n",
    " \n",
    " 2.2. Обучите модель и сделайте предсказания на валидационной выборке.\n",
    " \n",
    " 2.3. Сохраните предсказания и правильные ответы на валидационной выборке.\n",
    " \n",
    " 2.4. Напечатайте на экране средний запас предсказанного сырья и RMSE модели.\n",
    " \n",
    " 2.5. Проанализируйте результаты."
   ]
  },
  {
   "cell_type": "code",
   "execution_count": 13,
   "metadata": {},
   "outputs": [],
   "source": [
    "model = LinearRegression()\n",
    "\n",
    "def oil_predict(df, target_name):\n",
    "    features = df.drop([target_name] , axis=1)\n",
    "    target = df[target_name]\n",
    "    \n",
    "    features_train, features_valid, target_train, target_valid = train_test_split(\n",
    "    features, target, test_size=0.25, random_state=12345)\n",
    "    \n",
    "    model.fit(features_train, target_train)\n",
    "    predicted_target = model.predict(features_valid)\n",
    "    data = {'product' : target_valid,\n",
    "            'predicted_product' : predicted_target         \n",
    "    }\n",
    "    data_frame = pd.DataFrame(data, columns = ['product', 'predicted_product'])\n",
    "    rmse = mean_squared_error(target_valid, predicted_target)**0.5\n",
    "    mean = data_frame['predicted_product'].mean()\n",
    "    oil_sum = data_frame['predicted_product'].sum()\n",
    "    return data_frame, rmse, mean, oil_sum"
   ]
  },
  {
   "cell_type": "code",
   "execution_count": 16,
   "metadata": {},
   "outputs": [
    {
     "name": "stdout",
     "output_type": "stream",
     "text": [
      "          product  predicted_product\n",
      "71751   10.038645          95.894952\n",
      "80493  114.551489          77.572583\n",
      "2655   132.603635          77.892640\n",
      "53233  169.072125          90.175134\n",
      "91141  122.325180          70.510088\n",
      "RMSE - 37.5794217150813\n",
      "Средний запас запасанного сырья - 92.59256778438035\n"
     ]
    }
   ],
   "source": [
    "data_0_predicted, data_0_rmse, data_0_predicted_mean, data_0_predicted_sum = oil_predict(data_0, 'product')\n",
    "print(data_0_predicted.head())\n",
    "print('RMSE -', data_0_rmse)\n",
    "print('Средний запас запасанного сырья -', data_0_predicted_mean)"
   ]
  },
  {
   "cell_type": "code",
   "execution_count": 17,
   "metadata": {},
   "outputs": [
    {
     "name": "stdout",
     "output_type": "stream",
     "text": [
      "         product  predicted_product\n",
      "71751  80.859783          82.663314\n",
      "80493  53.906522          54.431786\n",
      "2655   30.132364          29.748760\n",
      "53233  53.906522          53.552133\n",
      "91141   0.000000           1.243856\n",
      "RMSE - 0.893099286775617\n",
      "Средний запас запасанного сырья - 68.728546895446\n"
     ]
    }
   ],
   "source": [
    "data_1_predicted, data_1_rmse, data_1_predicted_mean, data_1_predicted_sum = oil_predict(data_1, 'product')\n",
    "print(data_1_predicted.head())\n",
    "print('RMSE -', data_1_rmse)\n",
    "print('Средний запас запасанного сырья -', data_1_predicted_mean)"
   ]
  },
  {
   "cell_type": "code",
   "execution_count": 18,
   "metadata": {},
   "outputs": [
    {
     "name": "stdout",
     "output_type": "stream",
     "text": [
      "          product  predicted_product\n",
      "71751   61.212375          93.599633\n",
      "80493   41.850118          75.105159\n",
      "2655    57.776581          90.066809\n",
      "53233  100.053761         105.162375\n",
      "91141  109.897122         115.303310\n",
      "RMSE - 40.02970873393434\n",
      "Средний запас запасанного сырья - 94.96504596800489\n"
     ]
    }
   ],
   "source": [
    "data_2_predicted, data_2_rmse, data_2_predicted_mean, data_2_predicted_sum = oil_predict(data_2, 'product')\n",
    "print(data_2_predicted.head())\n",
    "print('RMSE -', data_2_rmse)\n",
    "print('Средний запас запасанного сырья -', data_2_predicted_mean)"
   ]
  },
  {
   "cell_type": "markdown",
   "metadata": {},
   "source": [
    "Вывод\n",
    "\n",
    "Самый высокий rmse  во втором регионе(RMSE - 0.893099286775617), чтоб может говорить о том, что модель лучше предсказала именно этот регион."
   ]
  },
  {
   "cell_type": "markdown",
   "metadata": {},
   "source": [
    "## Подготовка к расчёту прибыли"
   ]
  },
  {
   "cell_type": "markdown",
   "metadata": {},
   "source": [
    "Подготовьтесь к расчёту прибыли:\n",
    " \n",
    " 3.1. Все ключевые значения для расчётов сохраните в отдельных переменных.\n",
    " \n",
    " 3.2. Рассчитайте достаточный объём сырья для безубыточной разработки новой скважины. Сравните полученный объём сырья со средним запасом в каждом регионе. \n",
    " \n",
    " 3.3. Напишите выводы по этапу подготовки расчёта прибыли."
   ]
  },
  {
   "cell_type": "code",
   "execution_count": 19,
   "metadata": {},
   "outputs": [],
   "source": [
    "#для легкости восприятия и расчета переведу все в тысячи, получу прибыль в тысячах рублей за тысячу барелей\n",
    "chosen_points = 500\n",
    "best_points = 100\n",
    "price_per_barrel = 450\n",
    "budget = 1e+07 #миллиарды отображу таким образом"
   ]
  },
  {
   "cell_type": "markdown",
   "metadata": {},
   "source": [
    "Расчитаю безубыточную разработку сырья на 100 месторождениях. И найду среднее количество продукта в месторождениях необходимое для этого."
   ]
  },
  {
   "cell_type": "code",
   "execution_count": 20,
   "metadata": {},
   "outputs": [
    {
     "name": "stdout",
     "output_type": "stream",
     "text": [
      "Средняя прибыль на лучшую точку - 100000.0 тыс.руб.\n",
      "Средний объем нефти на точку - 222.22222222222223 тыс. барелей\n",
      "Средний объем нефти на регион - 22222.222222222223 тыс. барелей\n"
     ]
    }
   ],
   "source": [
    "#Расчитаю безубыточную разработку сырья на 100 месторождения\n",
    "average_profit_per_point = budget / best_points\n",
    "print('Средняя прибыль на лучшую точку -', average_profit_per_point, 'тыс.руб.')\n",
    "\n",
    "average_barrels_per_point = average_profit_per_point  / price_per_barrel\n",
    "print('Средний объем нефти на точку -',average_barrels_per_point, 'тыс. барелей')\n",
    "\n",
    "average_barrels = budget / price_per_barrel\n",
    "print('Средний объем нефти на регион -',average_barrels, 'тыс. барелей')"
   ]
  },
  {
   "cell_type": "code",
   "execution_count": 21,
   "metadata": {},
   "outputs": [
    {
     "name": "stdout",
     "output_type": "stream",
     "text": [
      "Средняя прибыль на лучшую точку - 50000.0 тыс.руб.\n",
      "Средний объем нефти на точку - 111.11111111111111 тыс. барелей\n",
      "Средний объем нефти на регион - 22222.222222222223 тыс. барелей\n"
     ]
    }
   ],
   "source": [
    "#Расчитаю безубыточную разработку сырья на 200 месторождениях\n",
    "best_points = 200\n",
    "\n",
    "average_profit_per_point = budget / best_points\n",
    "print('Средняя прибыль на лучшую точку -', average_profit_per_point, 'тыс.руб.')\n",
    "\n",
    "average_barrels_per_point = average_profit_per_point  / price_per_barrel\n",
    "print('Средний объем нефти на точку -',average_barrels_per_point, 'тыс. барелей')\n",
    "\n",
    "average_barrels = budget / price_per_barrel\n",
    "print('Средний объем нефти на регион -',average_barrels, 'тыс. барелей')"
   ]
  },
  {
   "cell_type": "code",
   "execution_count": 22,
   "metadata": {},
   "outputs": [
    {
     "name": "stdout",
     "output_type": "stream",
     "text": [
      "Средний запас фактичекой нефти на скважину в регионе 1 92.50000000000001\n",
      "Средний запас фактичекой нефти на скважину в регионе 2 68.82500000000002\n",
      "Средний запас фактичекой нефти на скважину в регионе 3 95.00000000000004\n"
     ]
    }
   ],
   "source": [
    "#посмотрю запасы\n",
    "print('Средний запас фактичекой нефти на скважину в регионе 1', data_0['product'].mean())\n",
    "print('Средний запас фактичекой нефти на скважину в регионе 2', data_1['product'].mean())\n",
    "print('Средний запас фактичекой нефти на скважину в регионе 3', data_2['product'].mean())"
   ]
  },
  {
   "cell_type": "markdown",
   "metadata": {},
   "source": [
    "у 1 и 3 больше шансов окупить затраты"
   ]
  },
  {
   "cell_type": "code",
   "execution_count": 26,
   "metadata": {},
   "outputs": [],
   "source": [
    "def oil_profit_calculation(target, probabilities, count):\n",
    "    probs_sorted = probabilities.sort_values(ascending=False)\n",
    "    selected = target[probs_sorted.index][:count]\n",
    "    return price_per_barrel * selected.sum() - budget"
   ]
  },
  {
   "cell_type": "code",
   "execution_count": 28,
   "metadata": {},
   "outputs": [
    {
     "data": {
      "image/png": "[encoded data removed]",
      "text/plain": [
       "<Figure size 720x504 with 1 Axes>"
      ]
     },
     "metadata": {
      "needs_background": "light"
     },
     "output_type": "display_data"
    }
   ],
   "source": [
    "oil_hist(data_0_predicted['predicted_product'], 200, 190, 500)"
   ]
  },
  {
   "cell_type": "code",
   "execution_count": 29,
   "metadata": {},
   "outputs": [
    {
     "data": {
      "image/png": "[encoded data removed]",
      "text/plain": [
       "<Figure size 720x504 with 1 Axes>"
      ]
     },
     "metadata": {
      "needs_background": "light"
     },
     "output_type": "display_data"
    }
   ],
   "source": [
    "oil_hist(data_1_predicted['predicted_product'], 20, 150, 5000)"
   ]
  },
  {
   "cell_type": "code",
   "execution_count": 30,
   "metadata": {},
   "outputs": [
    {
     "data": {
      "image/png": "[encoded data removed]",
      "text/plain": [
       "<Figure size 720x504 with 1 Axes>"
      ]
     },
     "metadata": {
      "needs_background": "light"
     },
     "output_type": "display_data"
    }
   ],
   "source": [
    "oil_hist(data_2_predicted['predicted_product'], 200, 190, 500)"
   ]
  },
  {
   "cell_type": "markdown",
   "metadata": {},
   "source": [
    "Ожидаемо низкая средняя валовая прибыль у региона 2. Посмотрю выбросы по регионам 1 и 3, может именно там самые богатые месторождения. Для подтверждения теории, проверю медианы."
   ]
  },
  {
   "cell_type": "code",
   "execution_count": 31,
   "metadata": {},
   "outputs": [],
   "source": [
    "def boxplot (well):\n",
    "    plt.boxplot(well)\n",
    "    plt.show()"
   ]
  },
  {
   "cell_type": "code",
   "execution_count": 32,
   "metadata": {},
   "outputs": [
    {
     "data": {
      "image/png": "[encoded data removed]",
      "text/plain": [
       "<Figure size 432x288 with 1 Axes>"
      ]
     },
     "metadata": {
      "needs_background": "light"
     },
     "output_type": "display_data"
    }
   ],
   "source": [
    "boxplot(data_0['product'])"
   ]
  },
  {
   "cell_type": "code",
   "execution_count": 33,
   "metadata": {},
   "outputs": [
    {
     "data": {
      "image/png": "[encoded data removed]",
      "text/plain": [
       "<Figure size 432x288 with 1 Axes>"
      ]
     },
     "metadata": {
      "needs_background": "light"
     },
     "output_type": "display_data"
    }
   ],
   "source": [
    "boxplot(data_1['product'])"
   ]
  },
  {
   "cell_type": "code",
   "execution_count": 34,
   "metadata": {},
   "outputs": [
    {
     "data": {
      "image/png": "[encoded data removed]",
      "text/plain": [
       "<Figure size 432x288 with 1 Axes>"
      ]
     },
     "metadata": {
      "needs_background": "light"
     },
     "output_type": "display_data"
    }
   ],
   "source": [
    "boxplot(data_2['product'])"
   ]
  },
  {
   "cell_type": "markdown",
   "metadata": {},
   "source": [
    "Экстремально больших или малых значений нет. При этом в data_1 есть разброс в больших значениях, а значит вероятность попасть на скважину выше"
   ]
  },
  {
   "cell_type": "markdown",
   "metadata": {},
   "source": [
    "## Расчёт прибыли и рисков "
   ]
  },
  {
   "cell_type": "markdown",
   "metadata": {},
   "source": [
    "Напишите функцию для расчёта прибыли по выбранным скважинам и предсказаниям модели:\n",
    " \n",
    "4.1. Выберите скважины с максимальными значениями предсказаний. \n",
    "\n",
    "4.2. Просуммируйте целевое значение объёма сырья, соответствующее этим предсказаниям.\n",
    "\n",
    "4.3. Рассчитайте прибыль для полученного объёма сырья."
   ]
  },
  {
   "cell_type": "markdown",
   "metadata": {},
   "source": [
    "Посчитайте риски и прибыль для каждого региона:\n",
    "\n",
    "5.1. Примените технику Bootstrap с 1000 выборок, чтобы найти распределение прибыли.\n",
    "\n",
    "5.2. Найдите среднюю прибыль, 95%-й доверительный интервал и риск убытков. Убыток — это отрицательная прибыль.\n",
    "\n",
    "5.3. Напишите выводы: предложите регион для разработки скважин и обоснуйте выбор."
   ]
  },
  {
   "cell_type": "code",
   "execution_count": 35,
   "metadata": {},
   "outputs": [],
   "source": [
    "state = np.random.RandomState(5062020)\n",
    "def bootstrap_1000(target, probs):\n",
    "    values=[]\n",
    "    lost = 0\n",
    "    for i in range(1000):\n",
    "        target_sample = target.sample(replace=True, random_state=state, n=chosen_points)\n",
    "        probs_sample = probs[target_sample.index]\n",
    "        profit = oil_profit_calculation(target, probs_sample, best_points)\n",
    "        if profit < 0:\n",
    "            lost +=1\n",
    "        values.append(profit)\n",
    "    \n",
    "    values = pd.Series(values)\n",
    "    lower = values.quantile(0.025)\n",
    "    upper = values.quantile(0.975)\n",
    "    average = values.mean()\n",
    "    risk = lost / 1000\n",
    "    return average, lower, upper, risk"
   ]
  },
  {
   "cell_type": "code",
   "execution_count": 38,
   "metadata": {},
   "outputs": [
    {
     "name": "stdout",
     "output_type": "stream",
     "text": [
      "Данные по первому региону.\n",
      "Средняя прибыль по региону = 384090.89 тыс.руб.\n",
      "95% доверительный интервал от -134623.42 до 932651.95 тыс.руб.\n",
      "Процент риска 9.20%\n"
     ]
    }
   ],
   "source": [
    "average_0, lower_0, upper_0, risk_0 = bootstrap_1000(data_0_predicted['product'], \n",
    "                                                     data_0_predicted['predicted_product'])\n",
    "print('Данные по первому региону.')\n",
    "print('Средняя прибыль по региону = {:.2f} тыс.руб.'.format(average_0))\n",
    "print('95% доверительный интервал от {:.2f} до {:.2f} тыс.руб.'.format(lower_0, upper_0))\n",
    "print('Процент риска {:.2%}'.format(risk_0))"
   ]
  },
  {
   "cell_type": "code",
   "execution_count": 39,
   "metadata": {},
   "outputs": [
    {
     "name": "stdout",
     "output_type": "stream",
     "text": [
      "Данные по второму региону.\n",
      "Средняя прибыль по региону = 458143.98 тыс.руб.\n",
      "95% доверительный интервал от 51101.18 до 852253.69 тыс.руб.\n",
      "Процент риска 1.30%\n"
     ]
    }
   ],
   "source": [
    "average_1, lower_1, upper_1, risk_1 = bootstrap_1000(data_1_predicted['product'], \n",
    "                                                     data_1_predicted['predicted_product'])\n",
    "print('Данные по второму региону.')\n",
    "print('Средняя прибыль по региону = {:.2f} тыс.руб.'.format(average_1))\n",
    "print('95% доверительный интервал от {:.2f} до {:.2f} тыс.руб.'.format(lower_1, upper_1))\n",
    "print('Процент риска {:.2%}'.format(risk_1))"
   ]
  },
  {
   "cell_type": "code",
   "execution_count": 41,
   "metadata": {},
   "outputs": [
    {
     "name": "stdout",
     "output_type": "stream",
     "text": [
      "Данные по третьему региону.\n",
      "Средняя прибыль по региону = 381427.17 тыс.руб.\n",
      "95% доверительный интервал от -149947.99 до 880092.42 тыс.руб.\n",
      "Процент риска 7.80%\n"
     ]
    }
   ],
   "source": [
    "average_2, lower_2, upper_2, risk_2 = bootstrap_1000(data_2_predicted['product'], \n",
    "                                                     data_2_predicted['predicted_product'])\n",
    "print('Данные по третьему региону.')\n",
    "print('Средняя прибыль по региону = {:.2f} тыс.руб.'.format(average_2))\n",
    "print('95% доверительный интервал от {:.2f} до {:.2f} тыс.руб.'.format(lower_2, upper_2))\n",
    "print('Процент риска {:.2%}'.format(risk_2))"
   ]
  },
  {
   "cell_type": "markdown",
   "metadata": {},
   "source": [
    "Данные были обработаны и рассчитаны прибыль, интервал и риски.\n",
    "\n",
    "у 1 и 3 региона риск большой, поэтому отсеиваю их. Остается 2 регион, чей риск ниже требуемого. Кроме того доверительный интервал показывает, что даже при не очень удачном выборе разработка скважин окупится."
   ]
  },
  {
   "cell_type": "markdown",
   "metadata": {},
   "source": [
    "## Чек-лист готовности проекта"
   ]
  },
  {
   "cell_type": "markdown",
   "metadata": {},
   "source": [
    "Поставьте 'x' в выполненных пунктах. Далее нажмите Shift+Enter."
   ]
  },
  {
   "cell_type": "markdown",
   "metadata": {},
   "source": [
    "- [x]  Jupyter Notebook открыт\n",
    "- [x]  Весь код выполняется без ошибок\n",
    "- [x]  Ячейки с кодом расположены в порядке исполнения\n",
    "- [x]  Выполнен шаг 1: данные подготовлены\n",
    "- [x]  Выполнен шаг 2: модели обучены и проверены\n",
    "    - [x]  Данные корректно разбиты на обучающую и валидационную выборки\n",
    "    - [x]  Модели обучены, предсказания сделаны\n",
    "    - [x]  Предсказания и правильные ответы на валидационной выборке сохранены\n",
    "    - [x]  На экране напечатаны результаты\n",
    "    - [x]  Сделаны выводы\n",
    "- [x]  Выполнен шаг 3: проведена подготовка к расчёту прибыли\n",
    "    - [x]  Для всех ключевых значений созданы константы Python\n",
    "    - [x]  Посчитано минимальное среднее количество продукта в месторождениях региона, достаточное для разработки\n",
    "    - [x]  По предыдущему пункту сделаны выводы\n",
    "    - [x]  Написана функция расчёта прибыли\n",
    "- [x]  Выполнен шаг 4: посчитаны риски и прибыль\n",
    "    - [x]  Проведена процедура *Bootstrap*\n",
    "    - [x]  Все параметры бутстрепа соответствуют условию\n",
    "    - [x]  Найдены все нужные величины\n",
    "    - [x]  Предложен регион для разработки месторождения\n",
    "    - [x]  Выбор региона обоснован"
   ]
  },
  {
   "cell_type": "markdown",
   "metadata": {},
   "source": [
    "При выполнении проекта было выполнены следующие данные:\n",
    "\n",
    "- Изучены данные. Проведена подготовка данных к моделированию.\n",
    "- Обучена модель для каждого региона data_0, data_1 и data_2.\n",
    "- Составлена функция расчета прибыли в регионе.\n",
    "- Посчитана прибыль и риски за каждый регион и обоснован выбор региона.\n",
    "- Второй регион получился одним из лучших по показателям предсказывания, хотя данные не выглядят нормально распределенными."
   ]
  }
 ],
 "metadata": {
  "ExecuteTimeLog": [
   {
    "duration": 8467,
    "start_time": "2024-07-23T15:02:23.193Z"
   },
   {
    "duration": 7411,
    "start_time": "2024-07-23T15:03:18.835Z"
   },
   {
    "duration": 1943,
    "start_time": "2024-07-23T15:03:51.351Z"
   },
   {
    "duration": 3,
    "start_time": "2024-07-23T15:04:16.272Z"
   },
   {
    "duration": 2614,
    "start_time": "2024-07-23T15:09:03.289Z"
   },
   {
    "duration": 2380,
    "start_time": "2024-07-23T15:09:05.906Z"
   },
   {
    "duration": 4179,
    "start_time": "2024-07-23T15:09:08.288Z"
   },
   {
    "duration": 3872,
    "start_time": "2024-07-23T15:09:12.470Z"
   },
   {
    "duration": 3233,
    "start_time": "2024-07-23T15:09:16.344Z"
   },
   {
    "duration": 2191,
    "start_time": "2024-07-23T15:09:19.579Z"
   },
   {
    "duration": 2,
    "start_time": "2024-07-23T15:09:21.772Z"
   },
   {
    "duration": 53,
    "start_time": "2024-07-23T15:09:21.775Z"
   },
   {
    "duration": 1364,
    "start_time": "2024-07-23T15:10:18.731Z"
   },
   {
    "duration": 2489,
    "start_time": "2024-07-23T16:17:46.420Z"
   },
   {
    "duration": 2350,
    "start_time": "2024-07-23T16:17:48.912Z"
   },
   {
    "duration": 4042,
    "start_time": "2024-07-23T16:17:51.263Z"
   },
   {
    "duration": 1577,
    "start_time": "2024-07-23T16:17:55.307Z"
   },
   {
    "duration": 2,
    "start_time": "2024-07-23T16:17:56.886Z"
   },
   {
    "duration": 415,
    "start_time": "2024-07-23T16:17:56.890Z"
   },
   {
    "duration": 109,
    "start_time": "2024-07-23T16:17:57.306Z"
   },
   {
    "duration": 0,
    "start_time": "2024-07-23T16:17:57.417Z"
   },
   {
    "duration": 0,
    "start_time": "2024-07-23T16:17:57.423Z"
   },
   {
    "duration": 7,
    "start_time": "2024-07-23T16:18:28.300Z"
   },
   {
    "duration": 8,
    "start_time": "2024-07-23T16:18:38.475Z"
   },
   {
    "duration": 413,
    "start_time": "2024-07-23T16:19:04.644Z"
   },
   {
    "duration": 18,
    "start_time": "2024-07-23T16:19:05.453Z"
   },
   {
    "duration": 24,
    "start_time": "2024-07-23T16:19:16.411Z"
   },
   {
    "duration": 22,
    "start_time": "2024-07-23T16:19:17.986Z"
   },
   {
    "duration": 21,
    "start_time": "2024-07-23T16:19:19.291Z"
   },
   {
    "duration": 35,
    "start_time": "2024-07-23T16:21:18.307Z"
   },
   {
    "duration": 32,
    "start_time": "2024-07-23T16:21:30.752Z"
   },
   {
    "duration": 32,
    "start_time": "2024-07-23T16:21:31.601Z"
   },
   {
    "duration": 52,
    "start_time": "2024-07-24T07:21:36.046Z"
   },
   {
    "duration": 8618,
    "start_time": "2024-07-24T07:23:29.807Z"
   },
   {
    "duration": 2119,
    "start_time": "2024-07-24T07:23:38.428Z"
   },
   {
    "duration": 6385,
    "start_time": "2024-07-24T07:23:40.548Z"
   },
   {
    "duration": 1656,
    "start_time": "2024-07-24T07:23:46.935Z"
   },
   {
    "duration": 815,
    "start_time": "2024-07-24T07:23:48.593Z"
   },
   {
    "duration": 24,
    "start_time": "2024-07-24T07:23:49.409Z"
   },
   {
    "duration": 33,
    "start_time": "2024-07-24T07:23:49.434Z"
   },
   {
    "duration": 20,
    "start_time": "2024-07-24T07:23:49.469Z"
   },
   {
    "duration": 43,
    "start_time": "2024-07-24T07:23:49.491Z"
   },
   {
    "duration": 53,
    "start_time": "2024-07-24T07:23:49.536Z"
   },
   {
    "duration": 30,
    "start_time": "2024-07-24T07:23:49.590Z"
   },
   {
    "duration": 12,
    "start_time": "2024-07-24T07:23:49.622Z"
   },
   {
    "duration": 34,
    "start_time": "2024-07-24T07:29:41.655Z"
   },
   {
    "duration": 34,
    "start_time": "2024-07-24T07:29:46.805Z"
   },
   {
    "duration": 37,
    "start_time": "2024-07-24T07:30:06.297Z"
   },
   {
    "duration": 48,
    "start_time": "2024-07-24T07:30:24.672Z"
   },
   {
    "duration": 106,
    "start_time": "2024-07-24T07:31:32.788Z"
   },
   {
    "duration": 2368,
    "start_time": "2024-07-24T07:31:41.626Z"
   },
   {
    "duration": 2199,
    "start_time": "2024-07-24T07:31:43.997Z"
   },
   {
    "duration": 2870,
    "start_time": "2024-07-24T07:31:46.198Z"
   },
   {
    "duration": 1524,
    "start_time": "2024-07-24T07:31:49.070Z"
   },
   {
    "duration": 405,
    "start_time": "2024-07-24T07:31:50.597Z"
   },
   {
    "duration": 37,
    "start_time": "2024-07-24T07:31:51.004Z"
   },
   {
    "duration": 42,
    "start_time": "2024-07-24T07:31:51.043Z"
   },
   {
    "duration": 21,
    "start_time": "2024-07-24T07:31:51.086Z"
   },
   {
    "duration": 110,
    "start_time": "2024-07-24T07:31:51.109Z"
   },
   {
    "duration": 13,
    "start_time": "2024-07-24T07:31:51.220Z"
   },
   {
    "duration": 5,
    "start_time": "2024-07-24T08:15:27.106Z"
   },
   {
    "duration": 113,
    "start_time": "2024-07-24T08:15:28.887Z"
   },
   {
    "duration": 1960,
    "start_time": "2024-07-24T08:15:46.110Z"
   },
   {
    "duration": 51,
    "start_time": "2024-07-24T08:16:15.086Z"
   },
   {
    "duration": 17,
    "start_time": "2024-07-24T08:16:16.061Z"
   },
   {
    "duration": 3,
    "start_time": "2024-07-24T08:16:17.259Z"
   },
   {
    "duration": 2388,
    "start_time": "2024-07-24T08:16:34.538Z"
   },
   {
    "duration": 2176,
    "start_time": "2024-07-24T08:16:36.929Z"
   },
   {
    "duration": 2935,
    "start_time": "2024-07-24T08:16:39.107Z"
   },
   {
    "duration": 1535,
    "start_time": "2024-07-24T08:16:42.044Z"
   },
   {
    "duration": 376,
    "start_time": "2024-07-24T08:16:43.581Z"
   },
   {
    "duration": 23,
    "start_time": "2024-07-24T08:16:43.960Z"
   },
   {
    "duration": 20,
    "start_time": "2024-07-24T08:16:43.984Z"
   },
   {
    "duration": 18,
    "start_time": "2024-07-24T08:16:44.006Z"
   },
   {
    "duration": 109,
    "start_time": "2024-07-24T08:16:44.026Z"
   },
   {
    "duration": 25,
    "start_time": "2024-07-24T08:16:44.136Z"
   },
   {
    "duration": 4,
    "start_time": "2024-07-24T08:16:44.162Z"
   },
   {
    "duration": 1882,
    "start_time": "2024-07-24T08:16:44.168Z"
   },
   {
    "duration": 1868,
    "start_time": "2024-07-24T08:19:45.470Z"
   },
   {
    "duration": 1823,
    "start_time": "2024-07-24T08:20:06.613Z"
   },
   {
    "duration": 1928,
    "start_time": "2024-07-24T08:20:30.837Z"
   },
   {
    "duration": 2048,
    "start_time": "2024-07-24T08:23:11.931Z"
   },
   {
    "duration": 5,
    "start_time": "2024-07-24T08:26:24.726Z"
   },
   {
    "duration": 109,
    "start_time": "2024-07-24T08:26:44.999Z"
   },
   {
    "duration": 23,
    "start_time": "2024-07-24T08:27:44.164Z"
   },
   {
    "duration": 2580,
    "start_time": "2024-07-24T08:27:54.066Z"
   },
   {
    "duration": 2270,
    "start_time": "2024-07-24T08:27:56.648Z"
   },
   {
    "duration": 3261,
    "start_time": "2024-07-24T08:27:58.920Z"
   },
   {
    "duration": 1607,
    "start_time": "2024-07-24T08:28:02.183Z"
   },
   {
    "duration": 429,
    "start_time": "2024-07-24T08:28:03.791Z"
   },
   {
    "duration": 24,
    "start_time": "2024-07-24T08:28:04.221Z"
   },
   {
    "duration": 40,
    "start_time": "2024-07-24T08:28:04.247Z"
   },
   {
    "duration": 24,
    "start_time": "2024-07-24T08:28:04.289Z"
   },
   {
    "duration": 121,
    "start_time": "2024-07-24T08:28:04.316Z"
   },
   {
    "duration": 24,
    "start_time": "2024-07-24T08:28:04.440Z"
   },
   {
    "duration": 5,
    "start_time": "2024-07-24T08:28:04.474Z"
   },
   {
    "duration": 2070,
    "start_time": "2024-07-24T08:28:04.481Z"
   },
   {
    "duration": 9,
    "start_time": "2024-07-24T08:28:06.553Z"
   },
   {
    "duration": 144,
    "start_time": "2024-07-24T08:28:06.566Z"
   },
   {
    "duration": 4,
    "start_time": "2024-07-24T08:34:20.619Z"
   },
   {
    "duration": 60,
    "start_time": "2024-07-24T08:34:22.608Z"
   },
   {
    "duration": 76,
    "start_time": "2024-07-24T08:34:50.788Z"
   },
   {
    "duration": 77,
    "start_time": "2024-07-24T08:35:04.186Z"
   },
   {
    "duration": 2567,
    "start_time": "2024-07-24T08:35:24.798Z"
   },
   {
    "duration": 2304,
    "start_time": "2024-07-24T08:35:27.369Z"
   },
   {
    "duration": 3237,
    "start_time": "2024-07-24T08:35:29.675Z"
   },
   {
    "duration": 1535,
    "start_time": "2024-07-24T08:35:32.914Z"
   },
   {
    "duration": 394,
    "start_time": "2024-07-24T08:35:34.452Z"
   },
   {
    "duration": 35,
    "start_time": "2024-07-24T08:35:34.848Z"
   },
   {
    "duration": 18,
    "start_time": "2024-07-24T08:35:34.885Z"
   },
   {
    "duration": 22,
    "start_time": "2024-07-24T08:35:34.905Z"
   },
   {
    "duration": 107,
    "start_time": "2024-07-24T08:35:34.929Z"
   },
   {
    "duration": 25,
    "start_time": "2024-07-24T08:35:35.037Z"
   },
   {
    "duration": 17,
    "start_time": "2024-07-24T08:35:35.064Z"
   },
   {
    "duration": 1991,
    "start_time": "2024-07-24T08:35:35.082Z"
   },
   {
    "duration": 6,
    "start_time": "2024-07-24T08:35:37.076Z"
   },
   {
    "duration": 88,
    "start_time": "2024-07-24T08:35:37.084Z"
   },
   {
    "duration": 106,
    "start_time": "2024-07-24T08:35:37.260Z"
   },
   {
    "duration": 193,
    "start_time": "2024-07-24T08:35:37.374Z"
   },
   {
    "duration": 82,
    "start_time": "2024-07-24T08:37:52.178Z"
   },
   {
    "duration": 2602,
    "start_time": "2024-07-24T08:38:39.809Z"
   },
   {
    "duration": 2291,
    "start_time": "2024-07-24T08:38:42.413Z"
   },
   {
    "duration": 3443,
    "start_time": "2024-07-24T08:38:44.706Z"
   },
   {
    "duration": 1568,
    "start_time": "2024-07-24T08:38:48.152Z"
   },
   {
    "duration": 443,
    "start_time": "2024-07-24T08:38:49.723Z"
   },
   {
    "duration": 27,
    "start_time": "2024-07-24T08:38:50.169Z"
   },
   {
    "duration": 19,
    "start_time": "2024-07-24T08:38:50.198Z"
   },
   {
    "duration": 18,
    "start_time": "2024-07-24T08:38:50.219Z"
   },
   {
    "duration": 136,
    "start_time": "2024-07-24T08:38:50.239Z"
   },
   {
    "duration": 12,
    "start_time": "2024-07-24T08:38:50.377Z"
   },
   {
    "duration": 6,
    "start_time": "2024-07-24T08:38:50.391Z"
   },
   {
    "duration": 1995,
    "start_time": "2024-07-24T08:38:50.398Z"
   },
   {
    "duration": 5,
    "start_time": "2024-07-24T08:38:52.395Z"
   },
   {
    "duration": 76,
    "start_time": "2024-07-24T08:38:52.402Z"
   },
   {
    "duration": 204,
    "start_time": "2024-07-24T08:38:52.561Z"
   },
   {
    "duration": 116,
    "start_time": "2024-07-24T08:38:52.767Z"
   },
   {
    "duration": 489,
    "start_time": "2024-07-24T08:52:54.083Z"
   },
   {
    "duration": 21,
    "start_time": "2024-07-24T08:53:09.623Z"
   },
   {
    "duration": 2694,
    "start_time": "2024-07-24T08:53:15.675Z"
   },
   {
    "duration": 2175,
    "start_time": "2024-07-24T08:53:18.372Z"
   },
   {
    "duration": 2915,
    "start_time": "2024-07-24T08:53:20.550Z"
   },
   {
    "duration": 1520,
    "start_time": "2024-07-24T08:53:23.467Z"
   },
   {
    "duration": 387,
    "start_time": "2024-07-24T08:53:24.988Z"
   },
   {
    "duration": 25,
    "start_time": "2024-07-24T08:53:25.376Z"
   },
   {
    "duration": 29,
    "start_time": "2024-07-24T08:53:25.402Z"
   },
   {
    "duration": 65,
    "start_time": "2024-07-24T08:53:25.433Z"
   },
   {
    "duration": 98,
    "start_time": "2024-07-24T08:53:25.500Z"
   },
   {
    "duration": 12,
    "start_time": "2024-07-24T08:53:25.600Z"
   },
   {
    "duration": 34,
    "start_time": "2024-07-24T08:53:25.613Z"
   },
   {
    "duration": 1897,
    "start_time": "2024-07-24T08:53:25.648Z"
   },
   {
    "duration": 4,
    "start_time": "2024-07-24T08:53:27.547Z"
   },
   {
    "duration": 74,
    "start_time": "2024-07-24T08:53:27.552Z"
   },
   {
    "duration": 156,
    "start_time": "2024-07-24T08:53:27.627Z"
   },
   {
    "duration": 185,
    "start_time": "2024-07-24T08:53:27.785Z"
   },
   {
    "duration": 4,
    "start_time": "2024-07-24T09:46:55.986Z"
   },
   {
    "duration": 3,
    "start_time": "2024-07-24T09:47:01.169Z"
   },
   {
    "duration": 115,
    "start_time": "2024-07-24T10:00:33.382Z"
   },
   {
    "duration": 2494,
    "start_time": "2024-07-24T10:00:46.076Z"
   },
   {
    "duration": 2270,
    "start_time": "2024-07-24T10:00:48.572Z"
   },
   {
    "duration": 3065,
    "start_time": "2024-07-24T10:00:50.844Z"
   },
   {
    "duration": 1485,
    "start_time": "2024-07-24T10:00:53.911Z"
   },
   {
    "duration": 425,
    "start_time": "2024-07-24T10:00:55.398Z"
   },
   {
    "duration": 37,
    "start_time": "2024-07-24T10:00:55.825Z"
   },
   {
    "duration": 23,
    "start_time": "2024-07-24T10:00:55.863Z"
   },
   {
    "duration": 21,
    "start_time": "2024-07-24T10:00:55.887Z"
   },
   {
    "duration": 123,
    "start_time": "2024-07-24T10:00:55.910Z"
   },
   {
    "duration": 12,
    "start_time": "2024-07-24T10:00:56.035Z"
   },
   {
    "duration": 13,
    "start_time": "2024-07-24T10:00:56.049Z"
   },
   {
    "duration": 1901,
    "start_time": "2024-07-24T10:00:56.063Z"
   },
   {
    "duration": 5,
    "start_time": "2024-07-24T10:00:57.966Z"
   },
   {
    "duration": 88,
    "start_time": "2024-07-24T10:00:57.974Z"
   },
   {
    "duration": 203,
    "start_time": "2024-07-24T10:00:58.064Z"
   },
   {
    "duration": 195,
    "start_time": "2024-07-24T10:00:58.268Z"
   },
   {
    "duration": 4,
    "start_time": "2024-07-24T10:00:58.465Z"
   },
   {
    "duration": 112,
    "start_time": "2024-07-24T10:00:58.470Z"
   },
   {
    "duration": 5,
    "start_time": "2024-07-24T10:01:54.022Z"
   },
   {
    "duration": 5,
    "start_time": "2024-07-24T10:02:38.350Z"
   },
   {
    "duration": 5,
    "start_time": "2024-07-24T10:02:53.676Z"
   },
   {
    "duration": 5,
    "start_time": "2024-07-24T10:03:02.318Z"
   },
   {
    "duration": 5,
    "start_time": "2024-07-24T10:03:16.271Z"
   },
   {
    "duration": 4,
    "start_time": "2024-07-24T10:08:25.676Z"
   },
   {
    "duration": 110,
    "start_time": "2024-07-24T10:09:14.061Z"
   },
   {
    "duration": 4,
    "start_time": "2024-07-24T10:26:26.524Z"
   },
   {
    "duration": 33,
    "start_time": "2024-07-24T10:26:27.783Z"
   },
   {
    "duration": 80,
    "start_time": "2024-07-24T10:26:28.481Z"
   },
   {
    "duration": 37,
    "start_time": "2024-07-24T10:26:28.947Z"
   },
   {
    "duration": 3,
    "start_time": "2024-07-24T10:26:30.803Z"
   },
   {
    "duration": 4,
    "start_time": "2024-07-24T10:26:31.555Z"
   },
   {
    "duration": 5,
    "start_time": "2024-07-24T10:26:32.043Z"
   },
   {
    "duration": 6,
    "start_time": "2024-07-24T10:26:32.619Z"
   },
   {
    "duration": 3,
    "start_time": "2024-07-24T10:26:33.750Z"
   },
   {
    "duration": 10,
    "start_time": "2024-07-24T10:26:34.313Z"
   },
   {
    "duration": 990,
    "start_time": "2024-07-24T10:26:56.241Z"
   },
   {
    "duration": 2465,
    "start_time": "2024-07-24T10:27:04.180Z"
   },
   {
    "duration": 2135,
    "start_time": "2024-07-24T10:27:06.647Z"
   },
   {
    "duration": 2892,
    "start_time": "2024-07-24T10:27:08.783Z"
   },
   {
    "duration": 1542,
    "start_time": "2024-07-24T10:27:11.678Z"
   },
   {
    "duration": 402,
    "start_time": "2024-07-24T10:27:13.221Z"
   },
   {
    "duration": 25,
    "start_time": "2024-07-24T10:27:13.624Z"
   },
   {
    "duration": 25,
    "start_time": "2024-07-24T10:27:13.651Z"
   },
   {
    "duration": 19,
    "start_time": "2024-07-24T10:27:13.678Z"
   },
   {
    "duration": 113,
    "start_time": "2024-07-24T10:27:13.699Z"
   },
   {
    "duration": 16,
    "start_time": "2024-07-24T10:27:13.815Z"
   },
   {
    "duration": 8,
    "start_time": "2024-07-24T10:27:13.833Z"
   },
   {
    "duration": 1904,
    "start_time": "2024-07-24T10:27:13.843Z"
   },
   {
    "duration": 4,
    "start_time": "2024-07-24T10:27:15.749Z"
   },
   {
    "duration": 109,
    "start_time": "2024-07-24T10:27:15.755Z"
   },
   {
    "duration": 195,
    "start_time": "2024-07-24T10:27:15.866Z"
   },
   {
    "duration": 128,
    "start_time": "2024-07-24T10:27:16.063Z"
   },
   {
    "duration": 4,
    "start_time": "2024-07-24T10:27:16.262Z"
   },
   {
    "duration": 94,
    "start_time": "2024-07-24T10:27:16.268Z"
   },
   {
    "duration": 5,
    "start_time": "2024-07-24T10:27:16.364Z"
   },
   {
    "duration": 29,
    "start_time": "2024-07-24T10:27:16.370Z"
   },
   {
    "duration": 3,
    "start_time": "2024-07-24T10:27:16.401Z"
   },
   {
    "duration": 1122,
    "start_time": "2024-07-24T10:27:16.405Z"
   },
   {
    "duration": 6,
    "start_time": "2024-07-24T10:29:54.665Z"
   },
   {
    "duration": 208,
    "start_time": "2024-07-24T10:29:55.754Z"
   },
   {
    "duration": 100,
    "start_time": "2024-07-24T10:30:32.662Z"
   },
   {
    "duration": 49,
    "start_time": "2024-07-26T11:44:33.671Z"
   },
   {
    "duration": 8985,
    "start_time": "2024-07-26T11:44:42.346Z"
   },
   {
    "duration": 2177,
    "start_time": "2024-07-26T11:44:51.333Z"
   },
   {
    "duration": 9093,
    "start_time": "2024-07-26T11:44:53.512Z"
   },
   {
    "duration": 1704,
    "start_time": "2024-07-26T11:45:02.608Z"
   },
   {
    "duration": 996,
    "start_time": "2024-07-26T11:45:04.313Z"
   },
   {
    "duration": 25,
    "start_time": "2024-07-26T11:45:05.310Z"
   },
   {
    "duration": 37,
    "start_time": "2024-07-26T11:45:05.336Z"
   },
   {
    "duration": 19,
    "start_time": "2024-07-26T11:45:05.375Z"
   },
   {
    "duration": 115,
    "start_time": "2024-07-26T11:45:05.395Z"
   },
   {
    "duration": 11,
    "start_time": "2024-07-26T11:45:05.513Z"
   },
   {
    "duration": 29,
    "start_time": "2024-07-26T11:45:05.526Z"
   },
   {
    "duration": 2002,
    "start_time": "2024-07-26T11:45:05.556Z"
   },
   {
    "duration": 4,
    "start_time": "2024-07-26T11:45:07.559Z"
   },
   {
    "duration": 350,
    "start_time": "2024-07-26T11:45:07.565Z"
   },
   {
    "duration": 0,
    "start_time": "2024-07-26T11:45:07.916Z"
   },
   {
    "duration": 0,
    "start_time": "2024-07-26T11:45:07.917Z"
   },
   {
    "duration": 0,
    "start_time": "2024-07-26T11:45:07.918Z"
   },
   {
    "duration": 0,
    "start_time": "2024-07-26T11:45:07.919Z"
   },
   {
    "duration": 0,
    "start_time": "2024-07-26T11:45:07.920Z"
   },
   {
    "duration": 0,
    "start_time": "2024-07-26T11:45:07.921Z"
   },
   {
    "duration": 0,
    "start_time": "2024-07-26T11:45:07.922Z"
   },
   {
    "duration": 0,
    "start_time": "2024-07-26T11:45:07.923Z"
   },
   {
    "duration": 4,
    "start_time": "2024-07-26T11:55:14.552Z"
   },
   {
    "duration": 13,
    "start_time": "2024-07-26T11:56:58.138Z"
   },
   {
    "duration": 3,
    "start_time": "2024-07-26T11:57:27.069Z"
   },
   {
    "duration": 2425,
    "start_time": "2024-07-26T11:57:33.112Z"
   },
   {
    "duration": 2187,
    "start_time": "2024-07-26T11:57:35.540Z"
   },
   {
    "duration": 3029,
    "start_time": "2024-07-26T11:57:37.729Z"
   },
   {
    "duration": 1511,
    "start_time": "2024-07-26T11:57:40.760Z"
   },
   {
    "duration": 403,
    "start_time": "2024-07-26T11:57:42.273Z"
   },
   {
    "duration": 24,
    "start_time": "2024-07-26T11:57:42.677Z"
   },
   {
    "duration": 19,
    "start_time": "2024-07-26T11:57:42.703Z"
   },
   {
    "duration": 90,
    "start_time": "2024-07-26T11:57:42.723Z"
   },
   {
    "duration": 95,
    "start_time": "2024-07-26T11:57:42.815Z"
   },
   {
    "duration": 11,
    "start_time": "2024-07-26T11:57:42.911Z"
   },
   {
    "duration": 36,
    "start_time": "2024-07-26T11:57:42.924Z"
   },
   {
    "duration": 2000,
    "start_time": "2024-07-26T11:57:42.961Z"
   },
   {
    "duration": 4,
    "start_time": "2024-07-26T11:57:44.963Z"
   },
   {
    "duration": 113,
    "start_time": "2024-07-26T11:57:44.969Z"
   },
   {
    "duration": 0,
    "start_time": "2024-07-26T11:57:45.083Z"
   },
   {
    "duration": 0,
    "start_time": "2024-07-26T11:57:45.085Z"
   },
   {
    "duration": 0,
    "start_time": "2024-07-26T11:57:45.086Z"
   },
   {
    "duration": 0,
    "start_time": "2024-07-26T11:57:45.087Z"
   },
   {
    "duration": 0,
    "start_time": "2024-07-26T11:57:45.088Z"
   },
   {
    "duration": 0,
    "start_time": "2024-07-26T11:57:45.088Z"
   },
   {
    "duration": 0,
    "start_time": "2024-07-26T11:57:45.090Z"
   },
   {
    "duration": 0,
    "start_time": "2024-07-26T11:57:45.091Z"
   },
   {
    "duration": 0,
    "start_time": "2024-07-26T11:57:45.092Z"
   },
   {
    "duration": 0,
    "start_time": "2024-07-26T11:57:45.093Z"
   },
   {
    "duration": 13,
    "start_time": "2024-07-26T11:59:50.656Z"
   },
   {
    "duration": 82,
    "start_time": "2024-07-26T12:00:37.891Z"
   },
   {
    "duration": 9,
    "start_time": "2024-07-26T12:00:43.665Z"
   },
   {
    "duration": 2437,
    "start_time": "2024-07-26T12:02:04.614Z"
   },
   {
    "duration": 2234,
    "start_time": "2024-07-26T12:02:07.053Z"
   },
   {
    "duration": 3048,
    "start_time": "2024-07-26T12:02:09.288Z"
   },
   {
    "duration": 1552,
    "start_time": "2024-07-26T12:02:12.339Z"
   },
   {
    "duration": 412,
    "start_time": "2024-07-26T12:02:13.894Z"
   },
   {
    "duration": 44,
    "start_time": "2024-07-26T12:02:14.307Z"
   },
   {
    "duration": 22,
    "start_time": "2024-07-26T12:02:14.352Z"
   },
   {
    "duration": 19,
    "start_time": "2024-07-26T12:02:14.375Z"
   },
   {
    "duration": 109,
    "start_time": "2024-07-26T12:02:14.396Z"
   },
   {
    "duration": 16,
    "start_time": "2024-07-26T12:02:14.507Z"
   },
   {
    "duration": 21,
    "start_time": "2024-07-26T12:02:14.525Z"
   },
   {
    "duration": 1910,
    "start_time": "2024-07-26T12:02:14.549Z"
   },
   {
    "duration": 9,
    "start_time": "2024-07-26T12:02:16.461Z"
   },
   {
    "duration": 134,
    "start_time": "2024-07-26T12:02:16.472Z"
   },
   {
    "duration": 0,
    "start_time": "2024-07-26T12:02:16.608Z"
   },
   {
    "duration": 0,
    "start_time": "2024-07-26T12:02:16.609Z"
   },
   {
    "duration": 0,
    "start_time": "2024-07-26T12:02:16.610Z"
   },
   {
    "duration": 0,
    "start_time": "2024-07-26T12:02:16.611Z"
   },
   {
    "duration": 0,
    "start_time": "2024-07-26T12:02:16.612Z"
   },
   {
    "duration": 0,
    "start_time": "2024-07-26T12:02:16.613Z"
   },
   {
    "duration": 0,
    "start_time": "2024-07-26T12:02:16.614Z"
   },
   {
    "duration": 0,
    "start_time": "2024-07-26T12:02:16.615Z"
   },
   {
    "duration": 16,
    "start_time": "2024-07-26T12:03:10.771Z"
   },
   {
    "duration": 5,
    "start_time": "2024-07-26T12:03:25.152Z"
   },
   {
    "duration": 42,
    "start_time": "2024-07-26T12:03:29.507Z"
   },
   {
    "duration": 60,
    "start_time": "2024-07-26T12:04:04.087Z"
   },
   {
    "duration": 33,
    "start_time": "2024-07-26T12:04:05.023Z"
   },
   {
    "duration": 3,
    "start_time": "2024-07-26T12:04:10.707Z"
   },
   {
    "duration": 4,
    "start_time": "2024-07-26T12:04:12.306Z"
   },
   {
    "duration": 5,
    "start_time": "2024-07-26T12:04:13.853Z"
   },
   {
    "duration": 4,
    "start_time": "2024-07-26T12:05:33.792Z"
   },
   {
    "duration": 5,
    "start_time": "2024-07-26T12:05:37.250Z"
   },
   {
    "duration": 6,
    "start_time": "2024-07-26T12:05:39.978Z"
   },
   {
    "duration": 3,
    "start_time": "2024-07-26T12:07:20.576Z"
   },
   {
    "duration": 5,
    "start_time": "2024-07-26T12:07:36.957Z"
   },
   {
    "duration": 13,
    "start_time": "2024-07-26T12:09:38.075Z"
   },
   {
    "duration": 10,
    "start_time": "2024-07-26T12:10:13.053Z"
   },
   {
    "duration": 4,
    "start_time": "2024-07-26T12:10:28.959Z"
   },
   {
    "duration": 3,
    "start_time": "2024-07-26T12:13:14.941Z"
   },
   {
    "duration": 179,
    "start_time": "2024-07-26T12:15:14.479Z"
   },
   {
    "duration": 232,
    "start_time": "2024-07-26T12:16:25.015Z"
   },
   {
    "duration": 210,
    "start_time": "2024-07-26T12:16:25.530Z"
   },
   {
    "duration": 12,
    "start_time": "2024-07-26T12:18:18.361Z"
   },
   {
    "duration": 4,
    "start_time": "2024-07-26T12:19:29.877Z"
   },
   {
    "duration": 68,
    "start_time": "2024-07-26T12:19:30.395Z"
   },
   {
    "duration": 379,
    "start_time": "2024-07-26T12:19:32.209Z"
   },
   {
    "duration": 60,
    "start_time": "2024-07-26T12:19:58.850Z"
   },
   {
    "duration": 387,
    "start_time": "2024-07-26T12:20:03.875Z"
   },
   {
    "duration": 369,
    "start_time": "2024-07-26T12:20:04.583Z"
   },
   {
    "duration": 9,
    "start_time": "2024-07-26T12:20:26.081Z"
   },
   {
    "duration": 12,
    "start_time": "2024-07-26T12:22:05.013Z"
   },
   {
    "duration": 8,
    "start_time": "2024-07-26T12:22:06.679Z"
   },
   {
    "duration": 3,
    "start_time": "2024-07-26T15:01:43.971Z"
   },
   {
    "duration": 379,
    "start_time": "2024-07-26T15:01:45.995Z"
   },
   {
    "duration": 422,
    "start_time": "2024-07-26T15:01:48.338Z"
   },
   {
    "duration": 375,
    "start_time": "2024-07-26T15:01:49.707Z"
   },
   {
    "duration": 3,
    "start_time": "2024-07-26T15:02:03.943Z"
   },
   {
    "duration": 209,
    "start_time": "2024-07-26T15:02:05.629Z"
   },
   {
    "duration": 382,
    "start_time": "2024-07-26T15:02:07.719Z"
   },
   {
    "duration": 418,
    "start_time": "2024-07-26T15:02:09.734Z"
   },
   {
    "duration": 160,
    "start_time": "2024-07-26T15:02:24.684Z"
   },
   {
    "duration": 150,
    "start_time": "2024-07-26T15:02:36.590Z"
   },
   {
    "duration": 62,
    "start_time": "2024-07-27T08:26:08.357Z"
   },
   {
    "duration": 8879,
    "start_time": "2024-07-27T08:26:16.059Z"
   },
   {
    "duration": 2432,
    "start_time": "2024-07-27T08:26:24.941Z"
   },
   {
    "duration": 7443,
    "start_time": "2024-07-27T08:26:27.375Z"
   },
   {
    "duration": 1851,
    "start_time": "2024-07-27T08:26:34.821Z"
   },
   {
    "duration": 1889,
    "start_time": "2024-07-27T08:26:36.674Z"
   },
   {
    "duration": 27,
    "start_time": "2024-07-27T08:26:38.565Z"
   },
   {
    "duration": 26,
    "start_time": "2024-07-27T08:26:38.594Z"
   },
   {
    "duration": 21,
    "start_time": "2024-07-27T08:26:38.622Z"
   },
   {
    "duration": 127,
    "start_time": "2024-07-27T08:26:38.645Z"
   },
   {
    "duration": 13,
    "start_time": "2024-07-27T08:26:38.774Z"
   },
   {
    "duration": 13,
    "start_time": "2024-07-27T08:26:38.789Z"
   },
   {
    "duration": 2114,
    "start_time": "2024-07-27T08:26:38.804Z"
   },
   {
    "duration": 6,
    "start_time": "2024-07-27T08:26:40.921Z"
   },
   {
    "duration": 93,
    "start_time": "2024-07-27T08:26:40.930Z"
   },
   {
    "duration": 198,
    "start_time": "2024-07-27T08:26:41.030Z"
   },
   {
    "duration": 199,
    "start_time": "2024-07-27T08:26:41.315Z"
   },
   {
    "duration": 84,
    "start_time": "2024-07-27T08:26:41.526Z"
   },
   {
    "duration": 16,
    "start_time": "2024-07-27T08:26:41.613Z"
   },
   {
    "duration": 6,
    "start_time": "2024-07-27T08:26:41.631Z"
   },
   {
    "duration": 14,
    "start_time": "2024-07-27T08:26:41.639Z"
   },
   {
    "duration": 5,
    "start_time": "2024-07-27T08:26:41.655Z"
   },
   {
    "duration": 16,
    "start_time": "2024-07-27T08:26:41.662Z"
   },
   {
    "duration": 253,
    "start_time": "2024-07-27T08:26:41.679Z"
   },
   {
    "duration": 189,
    "start_time": "2024-07-27T08:26:41.933Z"
   },
   {
    "duration": 202,
    "start_time": "2024-07-27T08:26:42.124Z"
   },
   {
    "duration": 115,
    "start_time": "2024-07-27T08:51:58.921Z"
   },
   {
    "duration": 5,
    "start_time": "2024-07-27T08:52:01.262Z"
   },
   {
    "duration": 10,
    "start_time": "2024-07-27T08:52:02.221Z"
   },
   {
    "duration": 742,
    "start_time": "2024-07-27T08:57:49.311Z"
   },
   {
    "duration": 2651,
    "start_time": "2024-07-27T09:22:31.712Z"
   },
   {
    "duration": 2368,
    "start_time": "2024-07-27T09:22:34.366Z"
   },
   {
    "duration": 3222,
    "start_time": "2024-07-27T09:22:36.737Z"
   },
   {
    "duration": 1598,
    "start_time": "2024-07-27T09:22:39.961Z"
   },
   {
    "duration": 455,
    "start_time": "2024-07-27T09:22:41.561Z"
   },
   {
    "duration": 27,
    "start_time": "2024-07-27T09:22:42.018Z"
   },
   {
    "duration": 23,
    "start_time": "2024-07-27T09:22:42.046Z"
   },
   {
    "duration": 46,
    "start_time": "2024-07-27T09:22:42.071Z"
   },
   {
    "duration": 108,
    "start_time": "2024-07-27T09:22:42.119Z"
   },
   {
    "duration": 14,
    "start_time": "2024-07-27T09:22:42.228Z"
   },
   {
    "duration": 5,
    "start_time": "2024-07-27T09:22:42.243Z"
   },
   {
    "duration": 1984,
    "start_time": "2024-07-27T09:22:42.250Z"
   },
   {
    "duration": 4,
    "start_time": "2024-07-27T09:22:44.236Z"
   },
   {
    "duration": 72,
    "start_time": "2024-07-27T09:22:44.243Z"
   },
   {
    "duration": 290,
    "start_time": "2024-07-27T09:22:44.318Z"
   },
   {
    "duration": 113,
    "start_time": "2024-07-27T09:22:44.611Z"
   },
   {
    "duration": 4,
    "start_time": "2024-07-27T09:22:44.808Z"
   },
   {
    "duration": 95,
    "start_time": "2024-07-27T09:22:44.815Z"
   },
   {
    "duration": 6,
    "start_time": "2024-07-27T09:22:44.911Z"
   },
   {
    "duration": 9,
    "start_time": "2024-07-27T09:22:44.919Z"
   },
   {
    "duration": 6,
    "start_time": "2024-07-27T09:22:44.929Z"
   },
   {
    "duration": 2,
    "start_time": "2024-07-27T09:22:44.937Z"
   },
   {
    "duration": 188,
    "start_time": "2024-07-27T09:22:44.941Z"
   },
   {
    "duration": 199,
    "start_time": "2024-07-27T09:22:45.131Z"
   },
   {
    "duration": 201,
    "start_time": "2024-07-27T09:22:45.331Z"
   },
   {
    "duration": 5,
    "start_time": "2024-07-27T09:22:45.533Z"
   },
   {
    "duration": 92,
    "start_time": "2024-07-27T09:22:45.540Z"
   },
   {
    "duration": 3,
    "start_time": "2024-07-27T09:30:21.741Z"
   },
   {
    "duration": 761,
    "start_time": "2024-07-27T09:31:05.365Z"
   },
   {
    "duration": 6,
    "start_time": "2024-07-27T09:32:17.493Z"
   },
   {
    "duration": 77,
    "start_time": "2024-07-27T09:32:18.241Z"
   },
   {
    "duration": 98,
    "start_time": "2024-07-27T09:32:18.718Z"
   },
   {
    "duration": 2698,
    "start_time": "2024-07-27T09:32:35.606Z"
   },
   {
    "duration": 2369,
    "start_time": "2024-07-27T09:32:38.306Z"
   },
   {
    "duration": 3271,
    "start_time": "2024-07-27T09:32:40.678Z"
   },
   {
    "duration": 1611,
    "start_time": "2024-07-27T09:32:43.952Z"
   },
   {
    "duration": 443,
    "start_time": "2024-07-27T09:32:45.565Z"
   },
   {
    "duration": 31,
    "start_time": "2024-07-27T09:32:46.009Z"
   },
   {
    "duration": 26,
    "start_time": "2024-07-27T09:32:46.041Z"
   },
   {
    "duration": 41,
    "start_time": "2024-07-27T09:32:46.069Z"
   },
   {
    "duration": 120,
    "start_time": "2024-07-27T09:32:46.112Z"
   },
   {
    "duration": 13,
    "start_time": "2024-07-27T09:32:46.233Z"
   },
   {
    "duration": 16,
    "start_time": "2024-07-27T09:32:46.248Z"
   },
   {
    "duration": 2072,
    "start_time": "2024-07-27T09:32:46.266Z"
   },
   {
    "duration": 5,
    "start_time": "2024-07-27T09:32:48.340Z"
   },
   {
    "duration": 369,
    "start_time": "2024-07-27T09:32:48.347Z"
   },
   {
    "duration": 0,
    "start_time": "2024-07-27T09:32:48.718Z"
   },
   {
    "duration": 0,
    "start_time": "2024-07-27T09:32:48.719Z"
   },
   {
    "duration": 0,
    "start_time": "2024-07-27T09:32:48.721Z"
   },
   {
    "duration": 0,
    "start_time": "2024-07-27T09:32:48.723Z"
   },
   {
    "duration": 0,
    "start_time": "2024-07-27T09:32:48.724Z"
   },
   {
    "duration": 1,
    "start_time": "2024-07-27T09:32:48.725Z"
   },
   {
    "duration": 0,
    "start_time": "2024-07-27T09:32:48.727Z"
   },
   {
    "duration": 0,
    "start_time": "2024-07-27T09:32:48.728Z"
   },
   {
    "duration": 0,
    "start_time": "2024-07-27T09:32:48.729Z"
   },
   {
    "duration": 0,
    "start_time": "2024-07-27T09:32:48.731Z"
   },
   {
    "duration": 0,
    "start_time": "2024-07-27T09:32:48.732Z"
   },
   {
    "duration": 0,
    "start_time": "2024-07-27T09:32:48.734Z"
   },
   {
    "duration": 0,
    "start_time": "2024-07-27T09:32:48.736Z"
   },
   {
    "duration": 0,
    "start_time": "2024-07-27T09:32:48.737Z"
   },
   {
    "duration": 0,
    "start_time": "2024-07-27T09:32:48.738Z"
   },
   {
    "duration": 8,
    "start_time": "2024-07-27T09:34:36.191Z"
   },
   {
    "duration": 6,
    "start_time": "2024-07-27T09:35:36.583Z"
   },
   {
    "duration": 109,
    "start_time": "2024-07-27T09:35:37.609Z"
   },
   {
    "duration": 5,
    "start_time": "2024-07-27T09:37:34.400Z"
   },
   {
    "duration": 237,
    "start_time": "2024-07-27T09:37:35.571Z"
   },
   {
    "duration": 5,
    "start_time": "2024-07-27T09:38:43.620Z"
   },
   {
    "duration": 64,
    "start_time": "2024-07-27T09:38:44.261Z"
   },
   {
    "duration": 5,
    "start_time": "2024-07-27T09:39:30.913Z"
   },
   {
    "duration": 131,
    "start_time": "2024-07-27T09:39:31.481Z"
   },
   {
    "duration": 5,
    "start_time": "2024-07-27T09:40:18.404Z"
   },
   {
    "duration": 197,
    "start_time": "2024-07-27T09:40:19.112Z"
   },
   {
    "duration": 6,
    "start_time": "2024-07-27T09:40:29.045Z"
   },
   {
    "duration": 105,
    "start_time": "2024-07-27T09:40:29.905Z"
   },
   {
    "duration": 4,
    "start_time": "2024-07-27T09:42:27.129Z"
   },
   {
    "duration": 83,
    "start_time": "2024-07-27T09:42:28.426Z"
   },
   {
    "duration": 5,
    "start_time": "2024-07-27T09:42:40.673Z"
   },
   {
    "duration": 125,
    "start_time": "2024-07-27T09:42:41.394Z"
   },
   {
    "duration": 7,
    "start_time": "2024-07-27T09:43:55.800Z"
   },
   {
    "duration": 41,
    "start_time": "2024-07-27T09:43:56.871Z"
   },
   {
    "duration": 5,
    "start_time": "2024-07-27T09:44:15.096Z"
   },
   {
    "duration": 107,
    "start_time": "2024-07-27T09:44:15.611Z"
   },
   {
    "duration": 5,
    "start_time": "2024-07-27T09:44:30.391Z"
   },
   {
    "duration": 108,
    "start_time": "2024-07-27T09:44:31.501Z"
   },
   {
    "duration": 7,
    "start_time": "2024-07-27T09:45:17.842Z"
   },
   {
    "duration": 156,
    "start_time": "2024-07-27T09:45:18.753Z"
   },
   {
    "duration": 2646,
    "start_time": "2024-07-27T09:45:31.907Z"
   },
   {
    "duration": 2422,
    "start_time": "2024-07-27T09:45:34.555Z"
   },
   {
    "duration": 3129,
    "start_time": "2024-07-27T09:45:36.979Z"
   },
   {
    "duration": 1673,
    "start_time": "2024-07-27T09:45:40.110Z"
   },
   {
    "duration": 441,
    "start_time": "2024-07-27T09:45:41.785Z"
   },
   {
    "duration": 27,
    "start_time": "2024-07-27T09:45:42.228Z"
   },
   {
    "duration": 23,
    "start_time": "2024-07-27T09:45:42.256Z"
   },
   {
    "duration": 48,
    "start_time": "2024-07-27T09:45:42.281Z"
   },
   {
    "duration": 111,
    "start_time": "2024-07-27T09:45:42.331Z"
   },
   {
    "duration": 14,
    "start_time": "2024-07-27T09:45:42.443Z"
   },
   {
    "duration": 6,
    "start_time": "2024-07-27T09:45:42.458Z"
   },
   {
    "duration": 1978,
    "start_time": "2024-07-27T09:45:42.465Z"
   },
   {
    "duration": 5,
    "start_time": "2024-07-27T09:45:44.444Z"
   },
   {
    "duration": 269,
    "start_time": "2024-07-27T09:45:44.451Z"
   },
   {
    "duration": 0,
    "start_time": "2024-07-27T09:45:44.721Z"
   },
   {
    "duration": 0,
    "start_time": "2024-07-27T09:45:44.722Z"
   },
   {
    "duration": 1,
    "start_time": "2024-07-27T09:45:44.723Z"
   },
   {
    "duration": 0,
    "start_time": "2024-07-27T09:45:44.725Z"
   },
   {
    "duration": 0,
    "start_time": "2024-07-27T09:45:44.726Z"
   },
   {
    "duration": 0,
    "start_time": "2024-07-27T09:45:44.727Z"
   },
   {
    "duration": 0,
    "start_time": "2024-07-27T09:45:44.728Z"
   },
   {
    "duration": 0,
    "start_time": "2024-07-27T09:45:44.729Z"
   },
   {
    "duration": 0,
    "start_time": "2024-07-27T09:45:44.730Z"
   },
   {
    "duration": 0,
    "start_time": "2024-07-27T09:45:44.731Z"
   },
   {
    "duration": 0,
    "start_time": "2024-07-27T09:45:44.733Z"
   },
   {
    "duration": 0,
    "start_time": "2024-07-27T09:45:44.734Z"
   },
   {
    "duration": 0,
    "start_time": "2024-07-27T09:45:44.735Z"
   },
   {
    "duration": 0,
    "start_time": "2024-07-27T09:45:44.736Z"
   },
   {
    "duration": 0,
    "start_time": "2024-07-27T09:45:44.737Z"
   },
   {
    "duration": 87,
    "start_time": "2024-07-27T09:46:48.424Z"
   },
   {
    "duration": 97,
    "start_time": "2024-07-27T09:46:59.410Z"
   },
   {
    "duration": 30,
    "start_time": "2024-07-27T09:48:10.494Z"
   },
   {
    "duration": 121,
    "start_time": "2024-07-27T09:48:10.609Z"
   },
   {
    "duration": 3,
    "start_time": "2024-07-27T09:51:00.706Z"
   },
   {
    "duration": 6,
    "start_time": "2024-07-27T09:51:01.704Z"
   },
   {
    "duration": 5,
    "start_time": "2024-07-27T09:51:02.267Z"
   },
   {
    "duration": 7,
    "start_time": "2024-07-27T09:51:02.786Z"
   },
   {
    "duration": 13,
    "start_time": "2024-07-27T09:51:04.067Z"
   },
   {
    "duration": 3,
    "start_time": "2024-07-27T09:51:07.766Z"
   },
   {
    "duration": 1429,
    "start_time": "2024-07-27T09:51:08.487Z"
   },
   {
    "duration": 4,
    "start_time": "2024-07-27T09:54:39.299Z"
   },
   {
    "duration": 719,
    "start_time": "2024-07-27T09:54:40.111Z"
   },
   {
    "duration": 552,
    "start_time": "2024-07-27T09:54:58.984Z"
   },
   {
    "duration": 278,
    "start_time": "2024-07-27T09:55:23.501Z"
   },
   {
    "duration": 521,
    "start_time": "2024-07-27T10:01:04.905Z"
   },
   {
    "duration": 3,
    "start_time": "2024-07-27T10:05:16.406Z"
   },
   {
    "duration": 161,
    "start_time": "2024-07-27T10:05:17.356Z"
   },
   {
    "duration": 283,
    "start_time": "2024-07-27T10:05:18.432Z"
   },
   {
    "duration": 223,
    "start_time": "2024-07-27T10:05:21.597Z"
   },
   {
    "duration": 5,
    "start_time": "2024-07-27T10:05:24.546Z"
   },
   {
    "duration": 758,
    "start_time": "2024-07-27T10:05:25.499Z"
   },
   {
    "duration": 746,
    "start_time": "2024-07-27T10:05:46.323Z"
   },
   {
    "duration": 951,
    "start_time": "2024-07-27T10:12:03.156Z"
   },
   {
    "duration": 973,
    "start_time": "2024-07-27T10:12:50.429Z"
   },
   {
    "duration": 919,
    "start_time": "2024-07-27T10:19:40.502Z"
   },
   {
    "duration": 919,
    "start_time": "2024-07-27T10:19:53.622Z"
   }
  ],
  "kernelspec": {
   "display_name": "Python 3 (ipykernel)",
   "language": "python",
   "name": "python3"
  },
  "language_info": {
   "codemirror_mode": {
    "name": "ipython",
    "version": 3
   },
   "file_extension": ".py",
   "mimetype": "text/x-python",
   "name": "python",
   "nbconvert_exporter": "python",
   "pygments_lexer": "ipython3",
   "version": "3.9.5"
  },
  "toc": {
   "base_numbering": 1,
   "nav_menu": {},
   "number_sections": true,
   "sideBar": true,
   "skip_h1_title": true,
   "title_cell": "Table of Contents",
   "title_sidebar": "Contents",
   "toc_cell": false,
   "toc_position": {},
   "toc_section_display": true,
   "toc_window_display": false
  }
 },
 "nbformat": 4,
 "nbformat_minor": 2
}
